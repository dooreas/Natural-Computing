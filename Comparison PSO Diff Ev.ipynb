{
 "cells": [
  {
   "cell_type": "code",
   "execution_count": 3,
   "id": "f050ffc1",
   "metadata": {},
   "outputs": [],
   "source": [
    "import numpy as np \n",
    "import itertools\n",
    "import pandas as pd\n",
    "import matplotlib.pyplot as plt\n",
    "from mpl_toolkits import mplot3d\n",
    "import random\n",
    "from time import process_time"
   ]
  },
  {
   "cell_type": "code",
   "execution_count": 4,
   "id": "3088707e",
   "metadata": {},
   "outputs": [],
   "source": [
    "def rastrigin(x):\n",
    "    return 10*len(x)+sum(x**2-10*np.cos(2*np.pi*x))"
   ]
  },
  {
   "cell_type": "code",
   "execution_count": 5,
   "id": "79876816",
   "metadata": {},
   "outputs": [],
   "source": [
    "def sphere(x):\n",
    "    return x.dot(x)"
   ]
  },
  {
   "cell_type": "code",
   "execution_count": 6,
   "id": "2ed21ecc",
   "metadata": {},
   "outputs": [],
   "source": [
    "class Particle: # all the material that is relavant at the level of the individual particles\n",
    "    \n",
    "    def __init__(self, dim, minx, maxx, funct):\n",
    "        self.position = np.random.uniform(low=minx, high=maxx, size=dim)\n",
    "        self.velocity = np.random.uniform(low=-0.1, high=0.1, size=dim)\n",
    "        self.best_particle_pos = self.position\n",
    "        self.dim = dim\n",
    "        self.funct=funct\n",
    "        self.fitness = self.funct(self.position)\n",
    "        self.best_particle_fitness = self.fitness   # we couldd start with very large number here, \n",
    "                                                    #but the actual value is better in case we are lucky \n",
    "                \n",
    "    def setPos(self, pos):\n",
    "        self.position = pos\n",
    "        self.fitness = self.funct(pos)  #WATCH OUT WITH THIS LINE: IS IT self.position or just pos?\n",
    "        \n",
    "        if self.fitness<self.best_particle_fitness:     # to update the personal best both \n",
    "                                                        # position (for velocity update) and\n",
    "                                                        # fitness (the new standard) are needed\n",
    "                                                        # global best is update on swarm leven\n",
    "            self.best_particle_fitness = self.fitness\n",
    "            self.best_particle_pos = pos\n",
    "\n",
    "    def updateVel(self, inertia, a1, a2, best_self_pos, best_swarm_pos):\n",
    "                # Here we use the canonical version\n",
    "                # V <- inertia*V + a1r1 (peronal_best - current_pos) + a2r2 (global_best - current_pos)\n",
    "        cur_vel = self.velocity\n",
    "        r1 = np.random.uniform(low=0, high=1, size = self.dim)\n",
    "        r2 = np.random.uniform(low=0, high=1, size = self.dim)\n",
    "        a1r1 = np.multiply(a1, r1)\n",
    "        a2r2 = np.multiply(a2, r2)\n",
    "        best_self_dif = np.subtract(best_self_pos, self.position)\n",
    "        best_swarm_dif = np.subtract(best_swarm_pos, self.position)\n",
    "                    # the next line is the main equation, namely the velocity update, \n",
    "                    # the velocities are added to the positions at swarm level\n",
    "        new_vel = inertia*cur_vel + np.multiply(a1r1, best_self_dif) + np.multiply(a2r2, best_swarm_dif)\n",
    "        self.velocity = new_vel\n",
    "        return new_vel\n",
    "    \n",
    "    \n",
    "\n",
    "#In these lines of codes, I add another argument to the particle class created in the labs, which determines the function in which our swarm particles are evaluated. \n",
    "#Hence, when optimising a particular function f, we will call our particles with funct=f."
   ]
  },
  {
   "cell_type": "code",
   "execution_count": 7,
   "id": "d0cc0cf6",
   "metadata": {},
   "outputs": [],
   "source": [
    "\n",
    "class PSO: # all the material that is relavant at swarm leveel\n",
    "\n",
    "    def __init__(self, w, a1, a2, dim, population_size, search_range, f, termination):\n",
    "\n",
    "        # Here we use values that are (somewhat) known to be good\n",
    "        # There are no \"best\" parameters (No Free Lunch), so try using different ones\n",
    "        # There are several papers online which discuss various different tunings of a1 and a2\n",
    "        # for different types of problems\n",
    "        self.w = w # Inertia\n",
    "        self.a1 = a1 # Attraction to personal best\n",
    "        self.a2 = a2 # Attraction to global best\n",
    "        self.dim = dim\n",
    "        self.f=f\n",
    "        self.termination=termination # a termination threeshold.\n",
    "        self.swarm = [Particle(dim,-search_range,search_range, self.f) for i in range(population_size)]\n",
    "\n",
    "        # Initialising global best, you can wait until the end of the first time step\n",
    "        # but creating a random initial best and fitness which is very high will mean you\n",
    "        # do not have to write an if statement for the one off case\n",
    "        self.best_swarm_pos = np.random.uniform(low=-500, high=500, size=dim)\n",
    "        self.best_swarm_fitness = 1e100\n",
    "\n",
    "    def run(self): \n",
    "        time=0\n",
    "        diver=0\n",
    "        while self.best_swarm_fitness>self.termination:\n",
    "            time=time+1\n",
    "            for p in range(len(self.swarm)):\n",
    "                particle = self.swarm[p]\n",
    "\n",
    "                new_position = particle.position + particle.updateVel(self.w, self.a1, self.a2, particle.best_particle_pos, self.best_swarm_pos)\n",
    "                                \n",
    "                if new_position.dot(new_position) > 1.0e+18: # The search will be terminated if the distance \n",
    "                                                        # of any particle from center is too large\n",
    "                        # We would want parameters for which our swarm does not diverge. As we also do not want \n",
    "                        # parameter settings producing time consuming runs, we group these two options by making divergent swarms look as time consuming runs\n",
    "                        #print('Time:', time,'Best Pos:',self.best_swarm_pos,'Best Fit:',self.best_swarm_fitness)\n",
    "                        #This will tell us whether the swarm diverged or not.\n",
    "                        #'Most likely divergent: Decrease parameter values'\n",
    "                    diver=1\n",
    "                    return [None, diver] #if our new particle position is too far apart, we simply return a None time value and a 1 divergence value.\n",
    "                        #This will state that most likely our swarm diverged and consequently there is no proper convergence of the swarm.\n",
    "                \n",
    "                if time==1000: \n",
    "                    return [None,1]# To avoid to much time running.\n",
    "                \n",
    "                self.swarm[p].setPos(new_position)         #When executing this recall that you are also maybe updating the value of the particle's best.\n",
    "\n",
    "                new_fitness = self.f(new_position)\n",
    "\n",
    "                if new_fitness < self.best_swarm_fitness:   # to update the global best both \n",
    "                                                            # position (for velocity update) and\n",
    "                                                            # fitness (the new group norm) are needed\n",
    "                    self.best_swarm_fitness = new_fitness\n",
    "                    self.best_swarm_pos = new_position\n",
    "                \n",
    "        return [time, diver]\n",
    "                \n",
    "# review time and diver variables.\n"
   ]
  },
  {
   "cell_type": "code",
   "execution_count": 6,
   "id": "65b4fe0a",
   "metadata": {},
   "outputs": [
    {
     "data": {
      "text/plain": [
       "[13, 0]"
      ]
     },
     "execution_count": 6,
     "metadata": {},
     "output_type": "execute_result"
    }
   ],
   "source": [
    "PSO(0.3, 1, 1, 4, 50, 5.12, sphere, 0.00001).run()"
   ]
  },
  {
   "cell_type": "code",
   "execution_count": 11,
   "id": "333c14e8",
   "metadata": {},
   "outputs": [],
   "source": [
    "class DifferentialEvolution:\n",
    "    def __init__(self,dim, F, prob, size, minx, maxx, funct):\n",
    "        self.dim=dim\n",
    "        self.F=F\n",
    "        self.prob=prob\n",
    "        self.size=size\n",
    "        self.minx=minx\n",
    "        self.maxx=maxx\n",
    "        self.funct=funct\n",
    "        self.population=[np.random.uniform(low=self.minx, high=self.maxx, size=self.dim) for n in range(self.size)]\n",
    "    \n",
    "    def newpopulation(self):\n",
    "        for n in range(self.size):\n",
    "            individual=self.population[n]\n",
    "            v=np.zeros(self.dim)\n",
    "            three_parents=random.sample(self.population,3)\n",
    "#             print(three_parents)\n",
    "            if self.funct(three_parents[0])>self.funct(three_parents[1]):\n",
    "                copy_individual=individual\n",
    "                v=three_parents[2]+self.F*(three_parents[1]-three_parents[0])\n",
    "                for dimension in range(self.dim):\n",
    "                    if np.random.uniform()<self.prob:\n",
    "                        copy_individual[dimension]=v[dimension]\n",
    "                        \n",
    "                if self.funct(copy_individual)<self.funct(individual):\n",
    "                    print(self.funct(individual))\n",
    "                    print(self.funct(copy_individual))\n",
    "                    self.population[n]=copy_individual\n",
    "                    \n",
    "    def run(self, term_criterion, max_iterations):\n",
    "        time=0\n",
    "        while (min(np.apply_along_axis(self.funct, 0, self.population))>term_criterion):\n",
    "            if time>=max_iterations:\n",
    "                return [min(np.apply_along_axis(self.funct, 0, self.population)),time,1]\n",
    "            time=time+1\n",
    "            self.newpopulation()\n",
    "            for individual in self.population:\n",
    "                if individual.dot(individual)> 1.0e+18:\n",
    "                    return [min(np.apply_along_axis(self.funct, 0, self.population)),time,1]\n",
    "        return min(np.apply_along_axis(self.funct, 0, self.population)), time, 0"
   ]
  },
  {
   "cell_type": "code",
   "execution_count": 28,
   "id": "ab7dbef0",
   "metadata": {},
   "outputs": [
    {
     "name": "stdout",
     "output_type": "stream",
     "text": [
      "[30.70166829497135, None, 1]\n",
      "0.390625\n"
     ]
    }
   ],
   "source": [
    "t_start=process_time()\n",
    "print(DifferentialEvolution(4,np.sqrt((1-(p/2))/N),p, 40,-5.12,5.12,rastrigin).run(0.00001,1000))\n",
    "t_stop=process_time()\n",
    "print(t_stop-t_start)"
   ]
  },
  {
   "cell_type": "code",
   "execution_count": 16,
   "id": "a7cae73a",
   "metadata": {},
   "outputs": [
    {
     "name": "stdout",
     "output_type": "stream",
     "text": [
      "[478, 0]\n",
      "0.375\n"
     ]
    }
   ],
   "source": [
    "t_start=process_time()\n",
    "print(PSO(0.7, 2, 2, 4, 24, 5.12, rastrigin, 0.00001).run())\n",
    "t_stop=process_time()\n",
    "print(t_stop-t_start)"
   ]
  },
  {
   "cell_type": "code",
   "execution_count": 14,
   "id": "9f231d8e",
   "metadata": {},
   "outputs": [],
   "source": [
    "range_p=[0,0.25,0.5,0.75,1]\n",
    "x=list()\n",
    "undesired=list()\n",
    "seconds=list()\n",
    "times=list()\n",
    "end_posis=list()\n",
    "for p in range_p: \n",
    "    c=0\n",
    "    sumatimes=0\n",
    "    sumadiver=0\n",
    "    sumaseconds=0\n",
    "    sumaposi=0\n",
    "    for it in range(300): #the average time we take will be taken over 300 sets\n",
    "        \n",
    "            t_start=process_time() #for timing in seconds\n",
    "            results=DifferentialEvolution(4,np.sqrt((1-(p/2))/40),p, 40,-5.12,5.12,rastrigin).run(0.00001,1000)\n",
    "            t_stop=process_time()\n",
    "            posi,time,diver=results\n",
    "            sumadiver=sumadiver+1 \n",
    "            sumatimes=sumatimes+time\n",
    "            sumaseconds=sumaseconds+t_stop-t_start\n",
    "            sumaposi=sumaposi+posi\n",
    "            c=c+1\n",
    "                \n",
    "    averagetime=sumatimes/c \n",
    "    averagediver=sumadiver/c\n",
    "    averageseconds=sumaseconds/c\n",
    "    averageposi=sumaposi/c\n",
    "    \n",
    "    times.append(averagetime)\n",
    "    undesired.append(averagediver)\n",
    "    seconds.append(averageseconds)\n",
    "    end_posis.append(averageposi)"
   ]
  },
  {
   "cell_type": "code",
   "execution_count": 16,
   "id": "26b9979c",
   "metadata": {},
   "outputs": [
    {
     "name": "stdout",
     "output_type": "stream",
     "text": [
      "[1000.0, 1000.0, 1000.0, 1000.0, 1000.0]\n",
      "[1.375625, 1.3884375, 1.3553125, 1.335, 1.4653125]\n",
      "[1.0, 1.0, 1.0, 1.0, 1.0]\n",
      "[676.8959669017688, 214.61654139680482, 65.44030584218713, 57.066285372100126, 132.8868497461566]\n"
     ]
    }
   ],
   "source": [
    "print(times)\n",
    "print(seconds)\n",
    "print(undesired)\n",
    "print(end_posis)"
   ]
  }
 ],
 "metadata": {
  "kernelspec": {
   "display_name": "Python 3 (ipykernel)",
   "language": "python",
   "name": "python3"
  },
  "language_info": {
   "codemirror_mode": {
    "name": "ipython",
    "version": 3
   },
   "file_extension": ".py",
   "mimetype": "text/x-python",
   "name": "python",
   "nbconvert_exporter": "python",
   "pygments_lexer": "ipython3",
   "version": "3.9.2"
  }
 },
 "nbformat": 4,
 "nbformat_minor": 5
}
